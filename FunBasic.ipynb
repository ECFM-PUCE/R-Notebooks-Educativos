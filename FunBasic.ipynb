{
  "cells": [
    {
      "cell_type": "markdown",
      "metadata": {
        "id": "view-in-github",
        "colab_type": "text"
      },
      "source": [
        "<a href=\"https://colab.research.google.com/github/ECFM-PUCE/R-Notebooks-Educativos/blob/main/FunBasic.ipynb\" target=\"_parent\"><img src=\"https://colab.research.google.com/assets/colab-badge.svg\" alt=\"Open In Colab\"/></a>"
      ]
    },
    {
      "cell_type": "markdown",
      "id": "f0c2558c-60a5-415c-9dd3-4b5c65ca182d",
      "metadata": {
        "id": "f0c2558c-60a5-415c-9dd3-4b5c65ca182d"
      },
      "source": [
        "<table style=\"border: 1px solid white;border-collapse: collapse;\" >\n",
        "<tr>\n",
        "  <td style=\"width:20%;vertical-align:middle;padding-right: 10;\"> <img src=\"https://i.imgur.com/nt7hloA.png\" width=\"100\"> </td>\n",
        "  <td><p style=\"margin: 0; text-align:left; font-variant: small-caps; font-size: 20px; color:#0030A1; font-weight: bold;\">Escuela de Ciencias Físicas y Matemática</p>\n",
        "    <p style=\"margin: 0; text-align:left; font-variant: small-caps; font-size: 20px; color:#0030A1;\">Introducción a R: Funciones de estadística nativas y creación de funciones propias</p>\n",
        "    <p style=\"margin: 0; text-align:left; color:#0030A1; font-style: oblique;\">Juan Anzieta &bull; Septiembre 2024</p>\n",
        "  </td>  \n",
        "</tr>\n",
        "</table>"
      ]
    },
    {
      "cell_type": "markdown",
      "id": "f29a6fea-5a95-4d6c-a67b-0d25aab07276",
      "metadata": {
        "id": "f29a6fea-5a95-4d6c-a67b-0d25aab07276"
      },
      "source": [
        "---\n",
        "## <font color='264CC7'> Algunas funciones básicas para estadística Descriptiva en R</font>\n",
        "---"
      ]
    },
    {
      "cell_type": "markdown",
      "id": "b5324e40-05ca-4b7e-b1df-5261dca617a1",
      "metadata": {
        "id": "b5324e40-05ca-4b7e-b1df-5261dca617a1"
      },
      "source": [
        "\n",
        "### Introducción\n",
        "\n",
        "En este documento, aprenderás a calcular algunas de las medidas más comunes de estadística descriptiva utilizando R. Veremos cómo calcular la media, mediana, moda, varianza y desviación estándar, tanto muestral como poblacional, así como proporciones. Usaremos bases de datos internas de R para ejemplificar cada caso o las crearemos cuando no estén disponibles por default.\n"
      ]
    },
    {
      "cell_type": "markdown",
      "id": "71997e67-3a8b-4d2a-a4db-043e356d234c",
      "metadata": {
        "id": "71997e67-3a8b-4d2a-a4db-043e356d234c"
      },
      "source": [
        "#### Conjuntos de datos\n",
        "\n",
        "Para ilustrar las funciones de estadística descriptiva, trabajaremos con los conjuntos de datos iris y mtcars, ambos incluidos en R."
      ]
    },
    {
      "cell_type": "code",
      "execution_count": null,
      "id": "e78ed68a-197b-45ee-bd38-aef6c9609d04",
      "metadata": {
        "id": "e78ed68a-197b-45ee-bd38-aef6c9609d04",
        "outputId": "4019ee16-f0f7-4005-a7e4-c8fe57300990"
      },
      "outputs": [
        {
          "data": {
            "text/html": [
              "<table class=\"dataframe\">\n",
              "<caption>A data.frame: 6 × 5</caption>\n",
              "<thead>\n",
              "\t<tr><th></th><th scope=col>Sepal.Length</th><th scope=col>Sepal.Width</th><th scope=col>Petal.Length</th><th scope=col>Petal.Width</th><th scope=col>Species</th></tr>\n",
              "\t<tr><th></th><th scope=col>&lt;dbl&gt;</th><th scope=col>&lt;dbl&gt;</th><th scope=col>&lt;dbl&gt;</th><th scope=col>&lt;dbl&gt;</th><th scope=col>&lt;fct&gt;</th></tr>\n",
              "</thead>\n",
              "<tbody>\n",
              "\t<tr><th scope=row>1</th><td>5.1</td><td>3.5</td><td>1.4</td><td>0.2</td><td>setosa</td></tr>\n",
              "\t<tr><th scope=row>2</th><td>4.9</td><td>3.0</td><td>1.4</td><td>0.2</td><td>setosa</td></tr>\n",
              "\t<tr><th scope=row>3</th><td>4.7</td><td>3.2</td><td>1.3</td><td>0.2</td><td>setosa</td></tr>\n",
              "\t<tr><th scope=row>4</th><td>4.6</td><td>3.1</td><td>1.5</td><td>0.2</td><td>setosa</td></tr>\n",
              "\t<tr><th scope=row>5</th><td>5.0</td><td>3.6</td><td>1.4</td><td>0.2</td><td>setosa</td></tr>\n",
              "\t<tr><th scope=row>6</th><td>5.4</td><td>3.9</td><td>1.7</td><td>0.4</td><td>setosa</td></tr>\n",
              "</tbody>\n",
              "</table>\n"
            ],
            "text/latex": [
              "A data.frame: 6 × 5\n",
              "\\begin{tabular}{r|lllll}\n",
              "  & Sepal.Length & Sepal.Width & Petal.Length & Petal.Width & Species\\\\\n",
              "  & <dbl> & <dbl> & <dbl> & <dbl> & <fct>\\\\\n",
              "\\hline\n",
              "\t1 & 5.1 & 3.5 & 1.4 & 0.2 & setosa\\\\\n",
              "\t2 & 4.9 & 3.0 & 1.4 & 0.2 & setosa\\\\\n",
              "\t3 & 4.7 & 3.2 & 1.3 & 0.2 & setosa\\\\\n",
              "\t4 & 4.6 & 3.1 & 1.5 & 0.2 & setosa\\\\\n",
              "\t5 & 5.0 & 3.6 & 1.4 & 0.2 & setosa\\\\\n",
              "\t6 & 5.4 & 3.9 & 1.7 & 0.4 & setosa\\\\\n",
              "\\end{tabular}\n"
            ],
            "text/markdown": [
              "\n",
              "A data.frame: 6 × 5\n",
              "\n",
              "| <!--/--> | Sepal.Length &lt;dbl&gt; | Sepal.Width &lt;dbl&gt; | Petal.Length &lt;dbl&gt; | Petal.Width &lt;dbl&gt; | Species &lt;fct&gt; |\n",
              "|---|---|---|---|---|---|\n",
              "| 1 | 5.1 | 3.5 | 1.4 | 0.2 | setosa |\n",
              "| 2 | 4.9 | 3.0 | 1.4 | 0.2 | setosa |\n",
              "| 3 | 4.7 | 3.2 | 1.3 | 0.2 | setosa |\n",
              "| 4 | 4.6 | 3.1 | 1.5 | 0.2 | setosa |\n",
              "| 5 | 5.0 | 3.6 | 1.4 | 0.2 | setosa |\n",
              "| 6 | 5.4 | 3.9 | 1.7 | 0.4 | setosa |\n",
              "\n"
            ],
            "text/plain": [
              "  Sepal.Length Sepal.Width Petal.Length Petal.Width Species\n",
              "1 5.1          3.5         1.4          0.2         setosa \n",
              "2 4.9          3.0         1.4          0.2         setosa \n",
              "3 4.7          3.2         1.3          0.2         setosa \n",
              "4 4.6          3.1         1.5          0.2         setosa \n",
              "5 5.0          3.6         1.4          0.2         setosa \n",
              "6 5.4          3.9         1.7          0.4         setosa "
            ]
          },
          "metadata": {},
          "output_type": "display_data"
        }
      ],
      "source": [
        "# Mostrar las primeras filas de los conjuntos de datos 'iris' y 'mtcars'\n",
        "head(iris)"
      ]
    },
    {
      "cell_type": "code",
      "execution_count": null,
      "id": "37fb3632-1ef2-46ac-b8b0-005d9a11c6c1",
      "metadata": {
        "id": "37fb3632-1ef2-46ac-b8b0-005d9a11c6c1",
        "outputId": "8634d27c-3f09-4b58-8c02-2629eb8f5b90"
      },
      "outputs": [
        {
          "data": {
            "text/html": [
              "<table class=\"dataframe\">\n",
              "<caption>A data.frame: 6 × 11</caption>\n",
              "<thead>\n",
              "\t<tr><th></th><th scope=col>mpg</th><th scope=col>cyl</th><th scope=col>disp</th><th scope=col>hp</th><th scope=col>drat</th><th scope=col>wt</th><th scope=col>qsec</th><th scope=col>vs</th><th scope=col>am</th><th scope=col>gear</th><th scope=col>carb</th></tr>\n",
              "\t<tr><th></th><th scope=col>&lt;dbl&gt;</th><th scope=col>&lt;dbl&gt;</th><th scope=col>&lt;dbl&gt;</th><th scope=col>&lt;dbl&gt;</th><th scope=col>&lt;dbl&gt;</th><th scope=col>&lt;dbl&gt;</th><th scope=col>&lt;dbl&gt;</th><th scope=col>&lt;dbl&gt;</th><th scope=col>&lt;dbl&gt;</th><th scope=col>&lt;dbl&gt;</th><th scope=col>&lt;dbl&gt;</th></tr>\n",
              "</thead>\n",
              "<tbody>\n",
              "\t<tr><th scope=row>Mazda RX4</th><td>21.0</td><td>6</td><td>160</td><td>110</td><td>3.90</td><td>2.620</td><td>16.46</td><td>0</td><td>1</td><td>4</td><td>4</td></tr>\n",
              "\t<tr><th scope=row>Mazda RX4 Wag</th><td>21.0</td><td>6</td><td>160</td><td>110</td><td>3.90</td><td>2.875</td><td>17.02</td><td>0</td><td>1</td><td>4</td><td>4</td></tr>\n",
              "\t<tr><th scope=row>Datsun 710</th><td>22.8</td><td>4</td><td>108</td><td> 93</td><td>3.85</td><td>2.320</td><td>18.61</td><td>1</td><td>1</td><td>4</td><td>1</td></tr>\n",
              "\t<tr><th scope=row>Hornet 4 Drive</th><td>21.4</td><td>6</td><td>258</td><td>110</td><td>3.08</td><td>3.215</td><td>19.44</td><td>1</td><td>0</td><td>3</td><td>1</td></tr>\n",
              "\t<tr><th scope=row>Hornet Sportabout</th><td>18.7</td><td>8</td><td>360</td><td>175</td><td>3.15</td><td>3.440</td><td>17.02</td><td>0</td><td>0</td><td>3</td><td>2</td></tr>\n",
              "\t<tr><th scope=row>Valiant</th><td>18.1</td><td>6</td><td>225</td><td>105</td><td>2.76</td><td>3.460</td><td>20.22</td><td>1</td><td>0</td><td>3</td><td>1</td></tr>\n",
              "</tbody>\n",
              "</table>\n"
            ],
            "text/latex": [
              "A data.frame: 6 × 11\n",
              "\\begin{tabular}{r|lllllllllll}\n",
              "  & mpg & cyl & disp & hp & drat & wt & qsec & vs & am & gear & carb\\\\\n",
              "  & <dbl> & <dbl> & <dbl> & <dbl> & <dbl> & <dbl> & <dbl> & <dbl> & <dbl> & <dbl> & <dbl>\\\\\n",
              "\\hline\n",
              "\tMazda RX4 & 21.0 & 6 & 160 & 110 & 3.90 & 2.620 & 16.46 & 0 & 1 & 4 & 4\\\\\n",
              "\tMazda RX4 Wag & 21.0 & 6 & 160 & 110 & 3.90 & 2.875 & 17.02 & 0 & 1 & 4 & 4\\\\\n",
              "\tDatsun 710 & 22.8 & 4 & 108 &  93 & 3.85 & 2.320 & 18.61 & 1 & 1 & 4 & 1\\\\\n",
              "\tHornet 4 Drive & 21.4 & 6 & 258 & 110 & 3.08 & 3.215 & 19.44 & 1 & 0 & 3 & 1\\\\\n",
              "\tHornet Sportabout & 18.7 & 8 & 360 & 175 & 3.15 & 3.440 & 17.02 & 0 & 0 & 3 & 2\\\\\n",
              "\tValiant & 18.1 & 6 & 225 & 105 & 2.76 & 3.460 & 20.22 & 1 & 0 & 3 & 1\\\\\n",
              "\\end{tabular}\n"
            ],
            "text/markdown": [
              "\n",
              "A data.frame: 6 × 11\n",
              "\n",
              "| <!--/--> | mpg &lt;dbl&gt; | cyl &lt;dbl&gt; | disp &lt;dbl&gt; | hp &lt;dbl&gt; | drat &lt;dbl&gt; | wt &lt;dbl&gt; | qsec &lt;dbl&gt; | vs &lt;dbl&gt; | am &lt;dbl&gt; | gear &lt;dbl&gt; | carb &lt;dbl&gt; |\n",
              "|---|---|---|---|---|---|---|---|---|---|---|---|\n",
              "| Mazda RX4 | 21.0 | 6 | 160 | 110 | 3.90 | 2.620 | 16.46 | 0 | 1 | 4 | 4 |\n",
              "| Mazda RX4 Wag | 21.0 | 6 | 160 | 110 | 3.90 | 2.875 | 17.02 | 0 | 1 | 4 | 4 |\n",
              "| Datsun 710 | 22.8 | 4 | 108 |  93 | 3.85 | 2.320 | 18.61 | 1 | 1 | 4 | 1 |\n",
              "| Hornet 4 Drive | 21.4 | 6 | 258 | 110 | 3.08 | 3.215 | 19.44 | 1 | 0 | 3 | 1 |\n",
              "| Hornet Sportabout | 18.7 | 8 | 360 | 175 | 3.15 | 3.440 | 17.02 | 0 | 0 | 3 | 2 |\n",
              "| Valiant | 18.1 | 6 | 225 | 105 | 2.76 | 3.460 | 20.22 | 1 | 0 | 3 | 1 |\n",
              "\n"
            ],
            "text/plain": [
              "                  mpg  cyl disp hp  drat wt    qsec  vs am gear carb\n",
              "Mazda RX4         21.0 6   160  110 3.90 2.620 16.46 0  1  4    4   \n",
              "Mazda RX4 Wag     21.0 6   160  110 3.90 2.875 17.02 0  1  4    4   \n",
              "Datsun 710        22.8 4   108   93 3.85 2.320 18.61 1  1  4    1   \n",
              "Hornet 4 Drive    21.4 6   258  110 3.08 3.215 19.44 1  0  3    1   \n",
              "Hornet Sportabout 18.7 8   360  175 3.15 3.440 17.02 0  0  3    2   \n",
              "Valiant           18.1 6   225  105 2.76 3.460 20.22 1  0  3    1   "
            ]
          },
          "metadata": {},
          "output_type": "display_data"
        }
      ],
      "source": [
        "head(mtcars)"
      ]
    },
    {
      "cell_type": "markdown",
      "id": "c76b7e33-30a7-4114-b583-f54f0804377f",
      "metadata": {
        "id": "c76b7e33-30a7-4114-b583-f54f0804377f"
      },
      "source": [
        "---\n",
        "## <font color='264CC7'> Medias </font>\n",
        "---\n",
        "Vamos a encontrar las medias para variables (columnas) específicas dentro de cada base de datos. ***Para hacerlo usamos el nombre de la base de datos, el signo $ y el nombre de la variable***. Vamos a usar la función ‘mean’ cuya sintaxis es: `mean(vector_de_datos)`"
      ]
    },
    {
      "cell_type": "markdown",
      "id": "985b01ff-c3e1-4ab1-9a10-3520474b5a38",
      "metadata": {
        "id": "985b01ff-c3e1-4ab1-9a10-3520474b5a38"
      },
      "source": [
        "#### Media de la longitud del sépalo en el conjunto de datos ‘iris’"
      ]
    },
    {
      "cell_type": "code",
      "execution_count": null,
      "id": "643ba496-5a73-4662-a040-a23d9cfb9f5a",
      "metadata": {
        "id": "643ba496-5a73-4662-a040-a23d9cfb9f5a",
        "outputId": "38b9b8ab-a8db-47d4-c40a-07414a50d719"
      },
      "outputs": [
        {
          "data": {
            "text/html": [
              "5.84333333333333"
            ],
            "text/latex": [
              "5.84333333333333"
            ],
            "text/markdown": [
              "5.84333333333333"
            ],
            "text/plain": [
              "[1] 5.843333"
            ]
          },
          "metadata": {},
          "output_type": "display_data"
        }
      ],
      "source": [
        "mean(iris$Sepal.Length)"
      ]
    },
    {
      "cell_type": "markdown",
      "id": "0c203a6c-1a1f-4744-a11b-3b2a14173a4a",
      "metadata": {
        "id": "0c203a6c-1a1f-4744-a11b-3b2a14173a4a"
      },
      "source": [
        "#### Media del millaje (mpg) en el conjunto de datos ‘mtcars’"
      ]
    },
    {
      "cell_type": "code",
      "execution_count": null,
      "id": "751792d4-f510-4ac2-b689-c7a52f0a30ed",
      "metadata": {
        "id": "751792d4-f510-4ac2-b689-c7a52f0a30ed",
        "outputId": "0650da65-741f-443a-c431-74da26b87139"
      },
      "outputs": [
        {
          "data": {
            "text/html": [
              "20.090625"
            ],
            "text/latex": [
              "20.090625"
            ],
            "text/markdown": [
              "20.090625"
            ],
            "text/plain": [
              "[1] 20.09062"
            ]
          },
          "metadata": {},
          "output_type": "display_data"
        }
      ],
      "source": [
        "mean(mtcars$mpg)"
      ]
    },
    {
      "cell_type": "markdown",
      "id": "31f83281-b077-4b4c-a497-25c4893fbc9f",
      "metadata": {
        "id": "31f83281-b077-4b4c-a497-25c4893fbc9f"
      },
      "source": [
        "---\n",
        "## <font color='264CC7'> Medianas </font>\n",
        "---\n",
        "Ahora calcularemos algunas medianas. Sintaxis: `median(vector_de_datos)`"
      ]
    },
    {
      "cell_type": "markdown",
      "id": "82402d51-4833-4b70-ab7e-793cf7235343",
      "metadata": {
        "id": "82402d51-4833-4b70-ab7e-793cf7235343"
      },
      "source": [
        "#### Mediana de la longitud del sépalo en ‘iris’"
      ]
    },
    {
      "cell_type": "code",
      "execution_count": null,
      "id": "6e856a95-b00c-4b4a-8acd-13bd1841a820",
      "metadata": {
        "id": "6e856a95-b00c-4b4a-8acd-13bd1841a820",
        "outputId": "f1e8839a-3eaf-4e80-f137-fc29261ea20a"
      },
      "outputs": [
        {
          "data": {
            "text/html": [
              "5.8"
            ],
            "text/latex": [
              "5.8"
            ],
            "text/markdown": [
              "5.8"
            ],
            "text/plain": [
              "[1] 5.8"
            ]
          },
          "metadata": {},
          "output_type": "display_data"
        }
      ],
      "source": [
        "median(iris$Sepal.Length)"
      ]
    },
    {
      "cell_type": "markdown",
      "id": "0e8b5880-59c5-41e7-88e4-6e31586a9773",
      "metadata": {
        "id": "0e8b5880-59c5-41e7-88e4-6e31586a9773"
      },
      "source": [
        "#### Mediana del millaje (mpg) en ‘mtcars’"
      ]
    },
    {
      "cell_type": "code",
      "execution_count": null,
      "id": "a30e156d-f19f-43b3-9b80-c191425c5753",
      "metadata": {
        "id": "a30e156d-f19f-43b3-9b80-c191425c5753",
        "outputId": "6a35e030-93c6-4942-c3a5-7130bd964682"
      },
      "outputs": [
        {
          "data": {
            "text/html": [
              "19.2"
            ],
            "text/latex": [
              "19.2"
            ],
            "text/markdown": [
              "19.2"
            ],
            "text/plain": [
              "[1] 19.2"
            ]
          },
          "metadata": {},
          "output_type": "display_data"
        }
      ],
      "source": [
        "median(mtcars$mpg)"
      ]
    },
    {
      "cell_type": "markdown",
      "id": "8e527a10-68f9-4e9b-8ff1-b76e20aa9b7d",
      "metadata": {
        "id": "8e527a10-68f9-4e9b-8ff1-b76e20aa9b7d"
      },
      "source": [
        "---\n",
        "## <font color='264CC7'> Moda </font>\n",
        "---\n",
        "R no tiene una función nativa para calcular la moda, pero podemos crear una sencilla función personalizada para ello."
      ]
    },
    {
      "cell_type": "markdown",
      "id": "5be5d3c0-9e58-4e93-aaab-f4f09c59af56",
      "metadata": {
        "id": "5be5d3c0-9e58-4e93-aaab-f4f09c59af56"
      },
      "source": [
        "### Programando la función \"moda\":"
      ]
    },
    {
      "cell_type": "code",
      "execution_count": null,
      "id": "35a495a4-2672-4f55-9a1d-ea822c13e0be",
      "metadata": {
        "id": "35a495a4-2672-4f55-9a1d-ea822c13e0be"
      },
      "outputs": [],
      "source": [
        "moda <- function(x) {\n",
        "  ux <- unique(x)#vector de todos los valores que aparecen en la variable\n",
        "  ux[which.max(tabulate(match(x, ux)))]#'tabula' o cuenta las ocurrencias de cada valor y evalúa ux en el que más se repita (máximo de ocurrencias)\n",
        "}"
      ]
    },
    {
      "cell_type": "markdown",
      "id": "8243b4be-7c85-4ed4-96a7-dc701fd89221",
      "metadata": {
        "id": "8243b4be-7c85-4ed4-96a7-dc701fd89221"
      },
      "source": [
        "Una vez programada esta función la podemos aplicar directamente en los datos:"
      ]
    },
    {
      "cell_type": "markdown",
      "id": "c3eacd3f-f0ee-441f-a552-7282b03758d8",
      "metadata": {
        "id": "c3eacd3f-f0ee-441f-a552-7282b03758d8"
      },
      "source": [
        "#### Moda del número de cilindros en ‘mtcars’"
      ]
    },
    {
      "cell_type": "code",
      "execution_count": null,
      "id": "bed11bfe-1a6a-493f-b592-98e66d501c48",
      "metadata": {
        "id": "bed11bfe-1a6a-493f-b592-98e66d501c48",
        "outputId": "7bcbc5de-d77c-4079-cbcf-9745439c5519"
      },
      "outputs": [
        {
          "data": {
            "text/html": [
              "8"
            ],
            "text/latex": [
              "8"
            ],
            "text/markdown": [
              "8"
            ],
            "text/plain": [
              "[1] 8"
            ]
          },
          "metadata": {},
          "output_type": "display_data"
        }
      ],
      "source": [
        "moda(mtcars$cyl)"
      ]
    },
    {
      "cell_type": "markdown",
      "id": "9c4082ed-d48c-4268-9175-6b526ad77de4",
      "metadata": {
        "id": "9c4082ed-d48c-4268-9175-6b526ad77de4"
      },
      "source": [
        "El cilindraje más común resultó 8 si examinamos la variable:"
      ]
    },
    {
      "cell_type": "code",
      "execution_count": null,
      "id": "5191a33a-092b-4653-93b8-20a4ed9b4f7b",
      "metadata": {
        "id": "5191a33a-092b-4653-93b8-20a4ed9b4f7b",
        "outputId": "184ee997-6b29-4d4a-8409-7bd9110e742a"
      },
      "outputs": [
        {
          "data": {
            "text/html": [
              "<style>\n",
              ".list-inline {list-style: none; margin:0; padding: 0}\n",
              ".list-inline>li {display: inline-block}\n",
              ".list-inline>li:not(:last-child)::after {content: \"\\00b7\"; padding: 0 .5ex}\n",
              "</style>\n",
              "<ol class=list-inline><li>6</li><li>6</li><li>4</li><li>6</li><li>8</li><li>6</li><li>8</li><li>4</li><li>4</li><li>6</li><li>6</li><li>8</li><li>8</li><li>8</li><li>8</li><li>8</li><li>8</li><li>4</li><li>4</li><li>4</li><li>4</li><li>8</li><li>8</li><li>8</li><li>8</li><li>4</li><li>4</li><li>4</li><li>8</li><li>6</li><li>8</li><li>4</li></ol>\n"
            ],
            "text/latex": [
              "\\begin{enumerate*}\n",
              "\\item 6\n",
              "\\item 6\n",
              "\\item 4\n",
              "\\item 6\n",
              "\\item 8\n",
              "\\item 6\n",
              "\\item 8\n",
              "\\item 4\n",
              "\\item 4\n",
              "\\item 6\n",
              "\\item 6\n",
              "\\item 8\n",
              "\\item 8\n",
              "\\item 8\n",
              "\\item 8\n",
              "\\item 8\n",
              "\\item 8\n",
              "\\item 4\n",
              "\\item 4\n",
              "\\item 4\n",
              "\\item 4\n",
              "\\item 8\n",
              "\\item 8\n",
              "\\item 8\n",
              "\\item 8\n",
              "\\item 4\n",
              "\\item 4\n",
              "\\item 4\n",
              "\\item 8\n",
              "\\item 6\n",
              "\\item 8\n",
              "\\item 4\n",
              "\\end{enumerate*}\n"
            ],
            "text/markdown": [
              "1. 6\n",
              "2. 6\n",
              "3. 4\n",
              "4. 6\n",
              "5. 8\n",
              "6. 6\n",
              "7. 8\n",
              "8. 4\n",
              "9. 4\n",
              "10. 6\n",
              "11. 6\n",
              "12. 8\n",
              "13. 8\n",
              "14. 8\n",
              "15. 8\n",
              "16. 8\n",
              "17. 8\n",
              "18. 4\n",
              "19. 4\n",
              "20. 4\n",
              "21. 4\n",
              "22. 8\n",
              "23. 8\n",
              "24. 8\n",
              "25. 8\n",
              "26. 4\n",
              "27. 4\n",
              "28. 4\n",
              "29. 8\n",
              "30. 6\n",
              "31. 8\n",
              "32. 4\n",
              "\n",
              "\n"
            ],
            "text/plain": [
              " [1] 6 6 4 6 8 6 8 4 4 6 6 8 8 8 8 8 8 4 4 4 4 8 8 8 8 4 4 4 8 6 8 4"
            ]
          },
          "metadata": {},
          "output_type": "display_data"
        }
      ],
      "source": [
        "mtcars$cyl"
      ]
    },
    {
      "cell_type": "markdown",
      "id": "90989073-da7c-4faf-ba30-589a28171228",
      "metadata": {
        "id": "90989073-da7c-4faf-ba30-589a28171228"
      },
      "source": [
        "#### Moda de la especie de flores en ‘iris’"
      ]
    },
    {
      "cell_type": "code",
      "execution_count": null,
      "id": "86171838-b55e-4087-98b1-136ba62e857a",
      "metadata": {
        "id": "86171838-b55e-4087-98b1-136ba62e857a",
        "outputId": "cba16250-7a93-435b-902c-5c12c20e0178"
      },
      "outputs": [
        {
          "data": {
            "text/html": [
              "setosa\n",
              "<details>\n",
              "\t<summary style=display:list-item;cursor:pointer>\n",
              "\t\t<strong>Levels</strong>:\n",
              "\t</summary>\n",
              "\t<style>\n",
              "\t.list-inline {list-style: none; margin:0; padding: 0}\n",
              "\t.list-inline>li {display: inline-block}\n",
              "\t.list-inline>li:not(:last-child)::after {content: \"\\00b7\"; padding: 0 .5ex}\n",
              "\t</style>\n",
              "\t<ol class=list-inline><li>'setosa'</li><li>'versicolor'</li><li>'virginica'</li></ol>\n",
              "</details>"
            ],
            "text/latex": [
              "setosa\n",
              "\\emph{Levels}: \\begin{enumerate*}\n",
              "\\item 'setosa'\n",
              "\\item 'versicolor'\n",
              "\\item 'virginica'\n",
              "\\end{enumerate*}\n"
            ],
            "text/markdown": [
              "setosa\n",
              "**Levels**: 1. 'setosa'\n",
              "2. 'versicolor'\n",
              "3. 'virginica'\n",
              "\n",
              "\n"
            ],
            "text/plain": [
              "[1] setosa\n",
              "Levels: setosa versicolor virginica"
            ]
          },
          "metadata": {},
          "output_type": "display_data"
        }
      ],
      "source": [
        "moda(iris$Species)"
      ]
    },
    {
      "cell_type": "markdown",
      "id": "cfc38dd0-5c34-4072-9c6a-e9c9347baceb",
      "metadata": {
        "id": "cfc38dd0-5c34-4072-9c6a-e9c9347baceb"
      },
      "source": [
        "La respuesta es ‘setosa’ pero ***OJO: si recordamos el código anterior los 3 conjuntos tenían 50 observaciones según especie, por lo tanto nos aparece el primer nombre únicamente como la moda.*** Comprobémoslo examinando la variable:"
      ]
    },
    {
      "cell_type": "code",
      "execution_count": null,
      "id": "23934f64-d0e0-45ce-b466-812d76d272ed",
      "metadata": {
        "id": "23934f64-d0e0-45ce-b466-812d76d272ed",
        "outputId": "f595a1ee-3a15-480d-aa27-858b3f5ee635"
      },
      "outputs": [
        {
          "data": {
            "text/html": [
              "<style>\n",
              ".list-inline {list-style: none; margin:0; padding: 0}\n",
              ".list-inline>li {display: inline-block}\n",
              ".list-inline>li:not(:last-child)::after {content: \"\\00b7\"; padding: 0 .5ex}\n",
              "</style>\n",
              "<ol class=list-inline><li>setosa</li><li>setosa</li><li>setosa</li><li>setosa</li><li>setosa</li><li>setosa</li><li>setosa</li><li>setosa</li><li>setosa</li><li>setosa</li><li>setosa</li><li>setosa</li><li>setosa</li><li>setosa</li><li>setosa</li><li>setosa</li><li>setosa</li><li>setosa</li><li>setosa</li><li>setosa</li><li>setosa</li><li>setosa</li><li>setosa</li><li>setosa</li><li>setosa</li><li>setosa</li><li>setosa</li><li>setosa</li><li>setosa</li><li>setosa</li><li>setosa</li><li>setosa</li><li>setosa</li><li>setosa</li><li>setosa</li><li>setosa</li><li>setosa</li><li>setosa</li><li>setosa</li><li>setosa</li><li>setosa</li><li>setosa</li><li>setosa</li><li>setosa</li><li>setosa</li><li>setosa</li><li>setosa</li><li>setosa</li><li>setosa</li><li>setosa</li><li>versicolor</li><li>versicolor</li><li>versicolor</li><li>versicolor</li><li>versicolor</li><li>versicolor</li><li>versicolor</li><li>versicolor</li><li>versicolor</li><li>versicolor</li><li>versicolor</li><li>versicolor</li><li>versicolor</li><li>versicolor</li><li>versicolor</li><li>versicolor</li><li>versicolor</li><li>versicolor</li><li>versicolor</li><li>versicolor</li><li>versicolor</li><li>versicolor</li><li>versicolor</li><li>versicolor</li><li>versicolor</li><li>versicolor</li><li>versicolor</li><li>versicolor</li><li>versicolor</li><li>versicolor</li><li>versicolor</li><li>versicolor</li><li>versicolor</li><li>versicolor</li><li>versicolor</li><li>versicolor</li><li>versicolor</li><li>versicolor</li><li>versicolor</li><li>versicolor</li><li>versicolor</li><li>versicolor</li><li>versicolor</li><li>versicolor</li><li>versicolor</li><li>versicolor</li><li>versicolor</li><li>versicolor</li><li>versicolor</li><li>versicolor</li><li>virginica</li><li>virginica</li><li>virginica</li><li>virginica</li><li>virginica</li><li>virginica</li><li>virginica</li><li>virginica</li><li>virginica</li><li>virginica</li><li>virginica</li><li>virginica</li><li>virginica</li><li>virginica</li><li>virginica</li><li>virginica</li><li>virginica</li><li>virginica</li><li>virginica</li><li>virginica</li><li>virginica</li><li>virginica</li><li>virginica</li><li>virginica</li><li>virginica</li><li>virginica</li><li>virginica</li><li>virginica</li><li>virginica</li><li>virginica</li><li>virginica</li><li>virginica</li><li>virginica</li><li>virginica</li><li>virginica</li><li>virginica</li><li>virginica</li><li>virginica</li><li>virginica</li><li>virginica</li><li>virginica</li><li>virginica</li><li>virginica</li><li>virginica</li><li>virginica</li><li>virginica</li><li>virginica</li><li>virginica</li><li>virginica</li><li>virginica</li></ol>\n",
              "\n",
              "<details>\n",
              "\t<summary style=display:list-item;cursor:pointer>\n",
              "\t\t<strong>Levels</strong>:\n",
              "\t</summary>\n",
              "\t<style>\n",
              "\t.list-inline {list-style: none; margin:0; padding: 0}\n",
              "\t.list-inline>li {display: inline-block}\n",
              "\t.list-inline>li:not(:last-child)::after {content: \"\\00b7\"; padding: 0 .5ex}\n",
              "\t</style>\n",
              "\t<ol class=list-inline><li>'setosa'</li><li>'versicolor'</li><li>'virginica'</li></ol>\n",
              "</details>"
            ],
            "text/latex": [
              "\\begin{enumerate*}\n",
              "\\item setosa\n",
              "\\item setosa\n",
              "\\item setosa\n",
              "\\item setosa\n",
              "\\item setosa\n",
              "\\item setosa\n",
              "\\item setosa\n",
              "\\item setosa\n",
              "\\item setosa\n",
              "\\item setosa\n",
              "\\item setosa\n",
              "\\item setosa\n",
              "\\item setosa\n",
              "\\item setosa\n",
              "\\item setosa\n",
              "\\item setosa\n",
              "\\item setosa\n",
              "\\item setosa\n",
              "\\item setosa\n",
              "\\item setosa\n",
              "\\item setosa\n",
              "\\item setosa\n",
              "\\item setosa\n",
              "\\item setosa\n",
              "\\item setosa\n",
              "\\item setosa\n",
              "\\item setosa\n",
              "\\item setosa\n",
              "\\item setosa\n",
              "\\item setosa\n",
              "\\item setosa\n",
              "\\item setosa\n",
              "\\item setosa\n",
              "\\item setosa\n",
              "\\item setosa\n",
              "\\item setosa\n",
              "\\item setosa\n",
              "\\item setosa\n",
              "\\item setosa\n",
              "\\item setosa\n",
              "\\item setosa\n",
              "\\item setosa\n",
              "\\item setosa\n",
              "\\item setosa\n",
              "\\item setosa\n",
              "\\item setosa\n",
              "\\item setosa\n",
              "\\item setosa\n",
              "\\item setosa\n",
              "\\item setosa\n",
              "\\item versicolor\n",
              "\\item versicolor\n",
              "\\item versicolor\n",
              "\\item versicolor\n",
              "\\item versicolor\n",
              "\\item versicolor\n",
              "\\item versicolor\n",
              "\\item versicolor\n",
              "\\item versicolor\n",
              "\\item versicolor\n",
              "\\item versicolor\n",
              "\\item versicolor\n",
              "\\item versicolor\n",
              "\\item versicolor\n",
              "\\item versicolor\n",
              "\\item versicolor\n",
              "\\item versicolor\n",
              "\\item versicolor\n",
              "\\item versicolor\n",
              "\\item versicolor\n",
              "\\item versicolor\n",
              "\\item versicolor\n",
              "\\item versicolor\n",
              "\\item versicolor\n",
              "\\item versicolor\n",
              "\\item versicolor\n",
              "\\item versicolor\n",
              "\\item versicolor\n",
              "\\item versicolor\n",
              "\\item versicolor\n",
              "\\item versicolor\n",
              "\\item versicolor\n",
              "\\item versicolor\n",
              "\\item versicolor\n",
              "\\item versicolor\n",
              "\\item versicolor\n",
              "\\item versicolor\n",
              "\\item versicolor\n",
              "\\item versicolor\n",
              "\\item versicolor\n",
              "\\item versicolor\n",
              "\\item versicolor\n",
              "\\item versicolor\n",
              "\\item versicolor\n",
              "\\item versicolor\n",
              "\\item versicolor\n",
              "\\item versicolor\n",
              "\\item versicolor\n",
              "\\item versicolor\n",
              "\\item versicolor\n",
              "\\item virginica\n",
              "\\item virginica\n",
              "\\item virginica\n",
              "\\item virginica\n",
              "\\item virginica\n",
              "\\item virginica\n",
              "\\item virginica\n",
              "\\item virginica\n",
              "\\item virginica\n",
              "\\item virginica\n",
              "\\item virginica\n",
              "\\item virginica\n",
              "\\item virginica\n",
              "\\item virginica\n",
              "\\item virginica\n",
              "\\item virginica\n",
              "\\item virginica\n",
              "\\item virginica\n",
              "\\item virginica\n",
              "\\item virginica\n",
              "\\item virginica\n",
              "\\item virginica\n",
              "\\item virginica\n",
              "\\item virginica\n",
              "\\item virginica\n",
              "\\item virginica\n",
              "\\item virginica\n",
              "\\item virginica\n",
              "\\item virginica\n",
              "\\item virginica\n",
              "\\item virginica\n",
              "\\item virginica\n",
              "\\item virginica\n",
              "\\item virginica\n",
              "\\item virginica\n",
              "\\item virginica\n",
              "\\item virginica\n",
              "\\item virginica\n",
              "\\item virginica\n",
              "\\item virginica\n",
              "\\item virginica\n",
              "\\item virginica\n",
              "\\item virginica\n",
              "\\item virginica\n",
              "\\item virginica\n",
              "\\item virginica\n",
              "\\item virginica\n",
              "\\item virginica\n",
              "\\item virginica\n",
              "\\item virginica\n",
              "\\end{enumerate*}\n",
              "\n",
              "\\emph{Levels}: \\begin{enumerate*}\n",
              "\\item 'setosa'\n",
              "\\item 'versicolor'\n",
              "\\item 'virginica'\n",
              "\\end{enumerate*}\n"
            ],
            "text/markdown": [
              "1. setosa\n",
              "2. setosa\n",
              "3. setosa\n",
              "4. setosa\n",
              "5. setosa\n",
              "6. setosa\n",
              "7. setosa\n",
              "8. setosa\n",
              "9. setosa\n",
              "10. setosa\n",
              "11. setosa\n",
              "12. setosa\n",
              "13. setosa\n",
              "14. setosa\n",
              "15. setosa\n",
              "16. setosa\n",
              "17. setosa\n",
              "18. setosa\n",
              "19. setosa\n",
              "20. setosa\n",
              "21. setosa\n",
              "22. setosa\n",
              "23. setosa\n",
              "24. setosa\n",
              "25. setosa\n",
              "26. setosa\n",
              "27. setosa\n",
              "28. setosa\n",
              "29. setosa\n",
              "30. setosa\n",
              "31. setosa\n",
              "32. setosa\n",
              "33. setosa\n",
              "34. setosa\n",
              "35. setosa\n",
              "36. setosa\n",
              "37. setosa\n",
              "38. setosa\n",
              "39. setosa\n",
              "40. setosa\n",
              "41. setosa\n",
              "42. setosa\n",
              "43. setosa\n",
              "44. setosa\n",
              "45. setosa\n",
              "46. setosa\n",
              "47. setosa\n",
              "48. setosa\n",
              "49. setosa\n",
              "50. setosa\n",
              "51. versicolor\n",
              "52. versicolor\n",
              "53. versicolor\n",
              "54. versicolor\n",
              "55. versicolor\n",
              "56. versicolor\n",
              "57. versicolor\n",
              "58. versicolor\n",
              "59. versicolor\n",
              "60. versicolor\n",
              "61. versicolor\n",
              "62. versicolor\n",
              "63. versicolor\n",
              "64. versicolor\n",
              "65. versicolor\n",
              "66. versicolor\n",
              "67. versicolor\n",
              "68. versicolor\n",
              "69. versicolor\n",
              "70. versicolor\n",
              "71. versicolor\n",
              "72. versicolor\n",
              "73. versicolor\n",
              "74. versicolor\n",
              "75. versicolor\n",
              "76. versicolor\n",
              "77. versicolor\n",
              "78. versicolor\n",
              "79. versicolor\n",
              "80. versicolor\n",
              "81. versicolor\n",
              "82. versicolor\n",
              "83. versicolor\n",
              "84. versicolor\n",
              "85. versicolor\n",
              "86. versicolor\n",
              "87. versicolor\n",
              "88. versicolor\n",
              "89. versicolor\n",
              "90. versicolor\n",
              "91. versicolor\n",
              "92. versicolor\n",
              "93. versicolor\n",
              "94. versicolor\n",
              "95. versicolor\n",
              "96. versicolor\n",
              "97. versicolor\n",
              "98. versicolor\n",
              "99. versicolor\n",
              "100. versicolor\n",
              "101. virginica\n",
              "102. virginica\n",
              "103. virginica\n",
              "104. virginica\n",
              "105. virginica\n",
              "106. virginica\n",
              "107. virginica\n",
              "108. virginica\n",
              "109. virginica\n",
              "110. virginica\n",
              "111. virginica\n",
              "112. virginica\n",
              "113. virginica\n",
              "114. virginica\n",
              "115. virginica\n",
              "116. virginica\n",
              "117. virginica\n",
              "118. virginica\n",
              "119. virginica\n",
              "120. virginica\n",
              "121. virginica\n",
              "122. virginica\n",
              "123. virginica\n",
              "124. virginica\n",
              "125. virginica\n",
              "126. virginica\n",
              "127. virginica\n",
              "128. virginica\n",
              "129. virginica\n",
              "130. virginica\n",
              "131. virginica\n",
              "132. virginica\n",
              "133. virginica\n",
              "134. virginica\n",
              "135. virginica\n",
              "136. virginica\n",
              "137. virginica\n",
              "138. virginica\n",
              "139. virginica\n",
              "140. virginica\n",
              "141. virginica\n",
              "142. virginica\n",
              "143. virginica\n",
              "144. virginica\n",
              "145. virginica\n",
              "146. virginica\n",
              "147. virginica\n",
              "148. virginica\n",
              "149. virginica\n",
              "150. virginica\n",
              "\n",
              "\n",
              "\n",
              "**Levels**: 1. 'setosa'\n",
              "2. 'versicolor'\n",
              "3. 'virginica'\n",
              "\n",
              "\n"
            ],
            "text/plain": [
              "  [1] setosa     setosa     setosa     setosa     setosa     setosa    \n",
              "  [7] setosa     setosa     setosa     setosa     setosa     setosa    \n",
              " [13] setosa     setosa     setosa     setosa     setosa     setosa    \n",
              " [19] setosa     setosa     setosa     setosa     setosa     setosa    \n",
              " [25] setosa     setosa     setosa     setosa     setosa     setosa    \n",
              " [31] setosa     setosa     setosa     setosa     setosa     setosa    \n",
              " [37] setosa     setosa     setosa     setosa     setosa     setosa    \n",
              " [43] setosa     setosa     setosa     setosa     setosa     setosa    \n",
              " [49] setosa     setosa     versicolor versicolor versicolor versicolor\n",
              " [55] versicolor versicolor versicolor versicolor versicolor versicolor\n",
              " [61] versicolor versicolor versicolor versicolor versicolor versicolor\n",
              " [67] versicolor versicolor versicolor versicolor versicolor versicolor\n",
              " [73] versicolor versicolor versicolor versicolor versicolor versicolor\n",
              " [79] versicolor versicolor versicolor versicolor versicolor versicolor\n",
              " [85] versicolor versicolor versicolor versicolor versicolor versicolor\n",
              " [91] versicolor versicolor versicolor versicolor versicolor versicolor\n",
              " [97] versicolor versicolor versicolor versicolor virginica  virginica \n",
              "[103] virginica  virginica  virginica  virginica  virginica  virginica \n",
              "[109] virginica  virginica  virginica  virginica  virginica  virginica \n",
              "[115] virginica  virginica  virginica  virginica  virginica  virginica \n",
              "[121] virginica  virginica  virginica  virginica  virginica  virginica \n",
              "[127] virginica  virginica  virginica  virginica  virginica  virginica \n",
              "[133] virginica  virginica  virginica  virginica  virginica  virginica \n",
              "[139] virginica  virginica  virginica  virginica  virginica  virginica \n",
              "[145] virginica  virginica  virginica  virginica  virginica  virginica \n",
              "Levels: setosa versicolor virginica"
            ]
          },
          "metadata": {},
          "output_type": "display_data"
        }
      ],
      "source": [
        "iris$Species"
      ]
    },
    {
      "cell_type": "markdown",
      "id": "9e6d668d-38c7-4fae-ad71-89766aa70f29",
      "metadata": {
        "id": "9e6d668d-38c7-4fae-ad71-89766aa70f29"
      },
      "source": [
        "---\n",
        "## <font color='264CC7'> Varianza Muestral </font>\n",
        "---\n",
        "En R, puedes calcular la varianza muestral usando var() con sintaxis: `var(vector_de_datos)` Sin embargo, por default, las varianzas en R son muestrales (porque en general MUY RARA VEZ un conjunto de datos es poblacional), por lo que se tiene que:"
      ]
    },
    {
      "cell_type": "markdown",
      "id": "4994dca7-1e6a-44cb-980f-00491721806c",
      "metadata": {
        "id": "4994dca7-1e6a-44cb-980f-00491721806c"
      },
      "source": [
        "#### Varianza muestral de la longitud del sépalo en ‘iris’"
      ]
    },
    {
      "cell_type": "code",
      "execution_count": null,
      "id": "fc7bcc17-25b0-4c3e-8b0d-4200275879fc",
      "metadata": {
        "id": "fc7bcc17-25b0-4c3e-8b0d-4200275879fc",
        "outputId": "dd524599-0c58-4d9f-9566-03e339fd663d"
      },
      "outputs": [
        {
          "data": {
            "text/html": [
              "0.685693512304251"
            ],
            "text/latex": [
              "0.685693512304251"
            ],
            "text/markdown": [
              "0.685693512304251"
            ],
            "text/plain": [
              "[1] 0.6856935"
            ]
          },
          "metadata": {},
          "output_type": "display_data"
        }
      ],
      "source": [
        "var(iris$Sepal.Length)"
      ]
    },
    {
      "cell_type": "markdown",
      "id": "d4f2c6d5-8e75-4a66-aa22-b2a122d8c085",
      "metadata": {
        "id": "d4f2c6d5-8e75-4a66-aa22-b2a122d8c085"
      },
      "source": [
        "#### Varianza muestral del millaje (mpg) en ‘mtcars’"
      ]
    },
    {
      "cell_type": "code",
      "execution_count": null,
      "id": "161f76fd-1823-47dd-92a6-d97c8b7689d8",
      "metadata": {
        "id": "161f76fd-1823-47dd-92a6-d97c8b7689d8",
        "outputId": "08d7bea5-5bdb-41d6-a02b-94e3aca0d42d"
      },
      "outputs": [
        {
          "data": {
            "text/html": [
              "36.3241028225806"
            ],
            "text/latex": [
              "36.3241028225806"
            ],
            "text/markdown": [
              "36.3241028225806"
            ],
            "text/plain": [
              "[1] 36.3241"
            ]
          },
          "metadata": {},
          "output_type": "display_data"
        }
      ],
      "source": [
        "var(mtcars$mpg)"
      ]
    },
    {
      "cell_type": "markdown",
      "id": "9df5ae5d-e4bc-4b4c-92c6-1e9360949fd1",
      "metadata": {
        "id": "9df5ae5d-e4bc-4b4c-92c6-1e9360949fd1"
      },
      "source": [
        "---\n",
        "## <font color='264CC7'> Varianza Poblacional* </font>\n",
        "---\n",
        "En el caso de desear varianzas poblacionales, podemos definir una función propia usando la definición usual de varianza y resulta en:"
      ]
    },
    {
      "cell_type": "markdown",
      "id": "55565d55-4a24-4e74-b940-a13f364ac629",
      "metadata": {
        "id": "55565d55-4a24-4e74-b940-a13f364ac629"
      },
      "source": [
        "### Definición y programación de variancia poblacional"
      ]
    },
    {
      "cell_type": "code",
      "execution_count": null,
      "id": "755a9cf9-07b8-4583-8aa5-906ee72a4127",
      "metadata": {
        "id": "755a9cf9-07b8-4583-8aa5-906ee72a4127"
      },
      "outputs": [],
      "source": [
        "var_poblacional <- function(x) {\n",
        "  var(x) * (length(x) - 1) / length(x)\n",
        "}"
      ]
    },
    {
      "cell_type": "markdown",
      "id": "21aefd19-450e-4de1-a1a8-6cd7fcb745b3",
      "metadata": {
        "id": "21aefd19-450e-4de1-a1a8-6cd7fcb745b3"
      },
      "source": [
        "#### Cálculo de variancias poblacionales (solo como ejemplos)"
      ]
    },
    {
      "cell_type": "code",
      "execution_count": null,
      "id": "f0d365e1-c56b-4855-928e-3d7020c64dcf",
      "metadata": {
        "id": "f0d365e1-c56b-4855-928e-3d7020c64dcf",
        "outputId": "086b35d3-d5c8-4e2b-eafb-7e43570361c1"
      },
      "outputs": [
        {
          "data": {
            "text/html": [
              "0.681122222222222"
            ],
            "text/latex": [
              "0.681122222222222"
            ],
            "text/markdown": [
              "0.681122222222222"
            ],
            "text/plain": [
              "[1] 0.6811222"
            ]
          },
          "metadata": {},
          "output_type": "display_data"
        }
      ],
      "source": [
        "var_poblacional(iris$Sepal.Length)"
      ]
    },
    {
      "cell_type": "code",
      "execution_count": null,
      "id": "f8b1c07e-295b-4f6f-a132-73d2a0cbce01",
      "metadata": {
        "id": "f8b1c07e-295b-4f6f-a132-73d2a0cbce01",
        "outputId": "7ffb13fe-c543-4eec-e562-17944d228417"
      },
      "outputs": [
        {
          "data": {
            "text/html": [
              "35.188974609375"
            ],
            "text/latex": [
              "35.188974609375"
            ],
            "text/markdown": [
              "35.188974609375"
            ],
            "text/plain": [
              "[1] 35.18897"
            ]
          },
          "metadata": {},
          "output_type": "display_data"
        }
      ],
      "source": [
        "var_poblacional(mtcars$mpg)"
      ]
    },
    {
      "cell_type": "markdown",
      "id": "ba249ff2-3a8c-48b5-b5dc-fab36ff63199",
      "metadata": {
        "id": "ba249ff2-3a8c-48b5-b5dc-fab36ff63199"
      },
      "source": [
        "***Nótense los valores parecidos pero al final subestimados de las varianzas poblacionales\\* respecto a las muestrales.***"
      ]
    },
    {
      "cell_type": "markdown",
      "id": "51e56e2d-7535-4870-a520-879bd7e04cb4",
      "metadata": {
        "id": "51e56e2d-7535-4870-a520-879bd7e04cb4"
      },
      "source": [
        "## <font color='264CC7'> Desviación estándar Muestral </font>\n",
        "---\n",
        "De la misma manera las desviaciones estándar en R son muestrales y se calculan directamente usando la sintaxis: `sd(vector_de_datos)`"
      ]
    },
    {
      "cell_type": "markdown",
      "id": "f01765e4-caca-41e1-b9e7-b71335ff37c7",
      "metadata": {
        "id": "f01765e4-caca-41e1-b9e7-b71335ff37c7"
      },
      "source": [
        "#### Desviación estándar muestral de la longitud del sépalo en ‘iris’"
      ]
    },
    {
      "cell_type": "code",
      "execution_count": null,
      "id": "348bb8e6-8caf-49e0-95a6-d99446b5e170",
      "metadata": {
        "id": "348bb8e6-8caf-49e0-95a6-d99446b5e170",
        "outputId": "416cf078-c1c2-497f-8175-8321b0b7af09"
      },
      "outputs": [
        {
          "data": {
            "text/html": [
              "0.828066127977863"
            ],
            "text/latex": [
              "0.828066127977863"
            ],
            "text/markdown": [
              "0.828066127977863"
            ],
            "text/plain": [
              "[1] 0.8280661"
            ]
          },
          "metadata": {},
          "output_type": "display_data"
        }
      ],
      "source": [
        "sd(iris$Sepal.Length)"
      ]
    },
    {
      "cell_type": "markdown",
      "id": "62092bf8-7b7d-4577-bf5b-77b9d0159cdd",
      "metadata": {
        "id": "62092bf8-7b7d-4577-bf5b-77b9d0159cdd"
      },
      "source": [
        "#### Desviación estándar muestral del millaje (mpg) en ‘mtcars’"
      ]
    },
    {
      "cell_type": "code",
      "execution_count": null,
      "id": "c9a6c39e-6da1-46fc-8b7b-9a9c355a8c8a",
      "metadata": {
        "id": "c9a6c39e-6da1-46fc-8b7b-9a9c355a8c8a",
        "outputId": "34cce6ca-1364-4fb7-eaa7-ddb457aa523a"
      },
      "outputs": [
        {
          "data": {
            "text/html": [
              "6.0269480520891"
            ],
            "text/latex": [
              "6.0269480520891"
            ],
            "text/markdown": [
              "6.0269480520891"
            ],
            "text/plain": [
              "[1] 6.026948"
            ]
          },
          "metadata": {},
          "output_type": "display_data"
        }
      ],
      "source": [
        "sd(mtcars$mpg)"
      ]
    },
    {
      "cell_type": "markdown",
      "id": "3403b354-16c4-40ff-bf0d-b6ddb80766d4",
      "metadata": {
        "id": "3403b354-16c4-40ff-bf0d-b6ddb80766d4"
      },
      "source": [
        "## <font color='264CC7'> Desviación estándar Poblacional </font>\n",
        "---\n",
        "Nuevamente definimos nuestra versión de desviación estándar poblacional"
      ]
    },
    {
      "cell_type": "markdown",
      "id": "993420fb-9758-4edd-bf9f-325829f10bc6",
      "metadata": {
        "id": "993420fb-9758-4edd-bf9f-325829f10bc6"
      },
      "source": [
        "### Definición y programación de desviación estándar poblacional"
      ]
    },
    {
      "cell_type": "code",
      "execution_count": null,
      "id": "7b4b3b95-c6a6-4b50-9a5f-c035e6038d5f",
      "metadata": {
        "id": "7b4b3b95-c6a6-4b50-9a5f-c035e6038d5f"
      },
      "outputs": [],
      "source": [
        "sd_poblacional <- function(x) {\n",
        "  sqrt(var(x) * (length(x) - 1) / length(x))\n",
        "}"
      ]
    },
    {
      "cell_type": "markdown",
      "id": "36d3be98-8fc9-4560-b3c8-97fd54c9abde",
      "metadata": {
        "id": "36d3be98-8fc9-4560-b3c8-97fd54c9abde"
      },
      "source": [
        "#### Desviaciones estándar poblacionales como ejemplos"
      ]
    },
    {
      "cell_type": "code",
      "execution_count": null,
      "id": "efee5a41-da6f-4cbe-97de-d67eb6963146",
      "metadata": {
        "id": "efee5a41-da6f-4cbe-97de-d67eb6963146",
        "outputId": "a68a784c-3cd0-4e24-a16d-f0873b5b0ed2"
      },
      "outputs": [
        {
          "data": {
            "text/html": [
              "0.825301291785141"
            ],
            "text/latex": [
              "0.825301291785141"
            ],
            "text/markdown": [
              "0.825301291785141"
            ],
            "text/plain": [
              "[1] 0.8253013"
            ]
          },
          "metadata": {},
          "output_type": "display_data"
        }
      ],
      "source": [
        "sd_poblacional(iris$Sepal.Length)"
      ]
    },
    {
      "cell_type": "code",
      "execution_count": null,
      "id": "8687b40d-c77f-45a5-aefd-7837a341ac31",
      "metadata": {
        "id": "8687b40d-c77f-45a5-aefd-7837a341ac31"
      },
      "outputs": [],
      "source": []
    },
    {
      "cell_type": "code",
      "execution_count": null,
      "id": "0f50fbc5-ec46-4494-ab16-af9c24cbbbcb",
      "metadata": {
        "id": "0f50fbc5-ec46-4494-ab16-af9c24cbbbcb",
        "outputId": "cd14fe05-a1c2-4109-80ee-14c68092b860"
      },
      "outputs": [
        {
          "data": {
            "text/html": [
              "5.93202955230122"
            ],
            "text/latex": [
              "5.93202955230122"
            ],
            "text/markdown": [
              "5.93202955230122"
            ],
            "text/plain": [
              "[1] 5.93203"
            ]
          },
          "metadata": {},
          "output_type": "display_data"
        }
      ],
      "source": [
        "sd_poblacional(mtcars$mpg)"
      ]
    },
    {
      "cell_type": "markdown",
      "id": "4b769662-066f-4297-a660-a087df1cb705",
      "metadata": {
        "id": "4b769662-066f-4297-a660-a087df1cb705"
      },
      "source": [
        "***De nuevo observamos valores distintos entre valores muestrales y poblacionales.***"
      ]
    },
    {
      "cell_type": "markdown",
      "id": "97d36020-58f8-4a3e-8088-4fb77e83976c",
      "metadata": {
        "id": "97d36020-58f8-4a3e-8088-4fb77e83976c"
      },
      "source": [
        "---\n",
        "## <font color='264CC7'> Proporciones </font>\n",
        "---\n",
        "Para calcular proporciones de 'niveles' dentro de una variable usaremos la función `table` con sintaxis: `table(vector_de_datos)`"
      ]
    },
    {
      "cell_type": "markdown",
      "id": "f9ca927e-4fb2-4f8f-8ec0-ba819d7ea57b",
      "metadata": {
        "id": "f9ca927e-4fb2-4f8f-8ec0-ba819d7ea57b"
      },
      "source": [
        "#### Proporción de cada especie en el conjunto de datos ‘iris’"
      ]
    },
    {
      "cell_type": "code",
      "execution_count": null,
      "id": "74a76951-710e-43ff-9914-2a3f321363a2",
      "metadata": {
        "id": "74a76951-710e-43ff-9914-2a3f321363a2",
        "outputId": "b6e9f544-b5d4-4864-dc6d-cb29c9d1ca92"
      },
      "outputs": [
        {
          "data": {
            "text/plain": [
              "\n",
              "    setosa versicolor  virginica \n",
              " 0.3333333  0.3333333  0.3333333 "
            ]
          },
          "metadata": {},
          "output_type": "display_data"
        }
      ],
      "source": [
        "prop.table(table(iris$Species))"
      ]
    },
    {
      "cell_type": "markdown",
      "id": "8e8b7840-9ea8-405c-837a-98b0ddbd3aa4",
      "metadata": {
        "id": "8e8b7840-9ea8-405c-837a-98b0ddbd3aa4"
      },
      "source": [
        "#### Proporción de coches con 4, 6 y 8 cilindros en ‘mtcars’"
      ]
    },
    {
      "cell_type": "code",
      "execution_count": null,
      "id": "4c0fb2f9-5c21-4135-b36a-651c2d015bf4",
      "metadata": {
        "id": "4c0fb2f9-5c21-4135-b36a-651c2d015bf4",
        "outputId": "d0d668ab-8b46-45f4-cd03-b72e13fbc581"
      },
      "outputs": [
        {
          "data": {
            "text/plain": [
              "\n",
              "      4       6       8 \n",
              "0.34375 0.21875 0.43750 "
            ]
          },
          "metadata": {},
          "output_type": "display_data"
        }
      ],
      "source": [
        "prop.table(table(mtcars$cyl))"
      ]
    },
    {
      "cell_type": "markdown",
      "id": "6a28d66a-b8e2-4c94-a1fa-69fbddee8c27",
      "metadata": {
        "id": "6a28d66a-b8e2-4c94-a1fa-69fbddee8c27"
      },
      "source": [
        "### Descripción de las funciones utilizadas:\n",
        "\n",
        "1. **`mean()`**: Calcula la media aritmética de un conjunto de datos.\n",
        "   - Sintaxis: `mean(vector_de_datos)`.\n",
        "\n",
        "2. **`median()`**: Calcula la mediana de un conjunto de datos, es decir, el valor central cuando los datos están ordenados.\n",
        "   - Sintaxis: `median(vector_de_datos)`.\n",
        "\n",
        "3. **`moda()`**: La moda es el valor que aparece con mayor frecuencia en un conjunto de datos. Como R no tiene una función nativa, se define una función personalizada para calcularla.\n",
        "\n",
        "4. **`var()`**: Calcula la varianza muestral de un conjunto de datos.\n",
        "   - Sintaxis: `var(vector_de_datos)`.\n",
        "\n",
        "5. **`sd()`**: Calcula la desviación estándar muestral, que es la raíz cuadrada de la varianza.\n",
        "   - Sintaxis: `sd(vector_de_datos)`.\n",
        "\n",
        "6. **`prop.table()`**: Calcula las proporciones a partir de una tabla de frecuencias.\n",
        "   - Sintaxis: `prop.table(table(vector_de_datos))`.\n",
        "\n",
        "7. **`table()`**: Crea una tabla de frecuencias para los valores de un vector.\n",
        "   - Sintaxis: `table(vector_de_datos)`."
      ]
    }
  ],
  "metadata": {
    "kernelspec": {
      "display_name": "R",
      "language": "R",
      "name": "ir"
    },
    "language_info": {
      "codemirror_mode": "r",
      "file_extension": ".r",
      "mimetype": "text/x-r-source",
      "name": "R",
      "pygments_lexer": "r",
      "version": "4.4.1"
    },
    "colab": {
      "provenance": [],
      "include_colab_link": true
    }
  },
  "nbformat": 4,
  "nbformat_minor": 5
}