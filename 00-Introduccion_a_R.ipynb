{
  "cells": [
    {
      "cell_type": "markdown",
      "metadata": {
        "id": "view-in-github",
        "colab_type": "text"
      },
      "source": [
        "<a href=\"https://colab.research.google.com/github/ECFM-PUCE/R-Notebooks-Educativos/blob/main/00-Introduccion_a_R.ipynb\" target=\"_parent\"><img src=\"https://colab.research.google.com/assets/colab-badge.svg\" alt=\"Open In Colab\"/></a>"
      ]
    },
    {
      "cell_type": "markdown",
      "metadata": {
        "id": "IPGP8vlZmq2B"
      },
      "source": [
        "<table style=\"border: 1px solid white;border-collapse: collapse;\" >\n",
        "<tr>\n",
        "  <td style=\"width:20%;vertical-align:middle;padding-right: 10;\"> <img src=\"https://i.imgur.com/nt7hloA.png\" width=\"100\"> </td>\n",
        "  <td><p style=\"margin: 0; text-align:left; font-variant: small-caps; font-size: 20px; color:#0030A1; font-weight: bold;\">Escuela de Ciencias Físicas y Matemática</p>\n",
        "    <p style=\"margin: 0; text-align:left; font-variant: small-caps; font-size: 20px; color:#0030A1;\">Introducción a R: Funcionalidades Básicas y Gráficos</p>\n",
        "    <p style=\"margin: 0; text-align:left; color:#0030A1; font-style: oblique;\">Juan Anzieta &bull; Septiembre 2024</p>\n",
        "  </td>  \n",
        "</tr>\n",
        "</table>"
      ]
    },
    {
      "cell_type": "markdown",
      "metadata": {
        "id": "_4RVtJ_mmq2C"
      },
      "source": [
        "---\n",
        "## <font color='264CC7'> ¿Qué es R y cómo opera?</font>\n",
        "---"
      ]
    },
    {
      "cell_type": "markdown",
      "metadata": {
        "id": "_ORKVkB0HYyo"
      },
      "source": [
        "<img src=\"https://upload.wikimedia.org/wikipedia/commons/1/1b/R_logo.svg\" alt=\"R logo.svg\" width=\"100\">"
      ]
    },
    {
      "cell_type": "markdown",
      "metadata": {
        "id": "ythgmdWHBwz8"
      },
      "source": [
        "[R](https://www.r-project.org/) es un lenguaje de programación especializado en el análisis de datos y la generación de gráficos, ampliamente utilizado en ciencia de datos, estadística y análisis predictivo. Una de sus principales fortalezas es la capacidad de manipular y visualizar datos de manera eficiente y flexible.\n",
        "\n",
        "A continuación, se presentan explicaciones concisas y fragmentos de código que ilustran algunas funcionalidades básicas de R.\n",
        "\n",
        "Al igual que muchos lenguajes de programación, R sigue un flujo secuencial, lo que significa que cada línea de código se ejecuta en el orden en que aparece. Es fundamental tener en cuenta que, si se modifica algún bloque de código que ya ha sido ejecutado, será necesario volver a ejecutar todas las líneas subsiguientes que dependan de los resultados previos para garantizar que los cálculos y resultados se actualicen correctamente.\n",
        "\n",
        "En los ejemplos de código que se proporcionan a continuación, recuerda que en R los comentarios se introducen utilizando el símbolo \"#\". Todo lo que se encuentre después de este símbolo en una línea de código será considerado un comentario y no será ejecutado."
      ]
    },
    {
      "cell_type": "markdown",
      "metadata": {
        "id": "Rq96LgbaBwz9"
      },
      "source": [
        "### <font color='264CC7'> Datos en R </font>\n",
        "\n",
        "La gran mayoría de datos en R que son de interés tienen que estar guardados en variables para poder analizarlos y utilizarlos de diversas maneras. Así, por ejemplo, se pueden guardar en variables diferentes, números, palabras o estructuras más complejas. Empecemos creando y visualizando variables simples:  "
      ]
    },
    {
      "cell_type": "code",
      "execution_count": null,
      "metadata": {
        "id": "K06RdmipBwz9",
        "vscode": {
          "languageId": "r"
        }
      },
      "outputs": [],
      "source": [
        "# Creando variables que guardan un números\n",
        "y = 3\n",
        "z_ttt <- -7\n"
      ]
    },
    {
      "cell_type": "markdown",
      "metadata": {
        "id": "dNbIgFbzBwz-"
      },
      "source": [
        "Ahora visualizamos las variables:"
      ]
    },
    {
      "cell_type": "code",
      "execution_count": null,
      "metadata": {
        "id": "hQ-Tej9HBwz-",
        "outputId": "044c0b1c-036d-49d8-abb9-ff926312818b",
        "vscode": {
          "languageId": "r"
        }
      },
      "outputs": [
        {
          "data": {
            "text/html": [
              "3"
            ],
            "text/latex": [
              "3"
            ],
            "text/markdown": [
              "3"
            ],
            "text/plain": [
              "[1] 3"
            ]
          },
          "metadata": {},
          "output_type": "display_data"
        }
      ],
      "source": [
        "y\n"
      ]
    },
    {
      "cell_type": "code",
      "execution_count": null,
      "metadata": {
        "id": "CUNNr4-pBwz-",
        "outputId": "66920b16-df0c-493a-fd1f-53f5e4ce3109",
        "vscode": {
          "languageId": "r"
        }
      },
      "outputs": [
        {
          "data": {
            "text/html": [
              "-7"
            ],
            "text/latex": [
              "-7"
            ],
            "text/markdown": [
              "-7"
            ],
            "text/plain": [
              "[1] -7"
            ]
          },
          "metadata": {},
          "output_type": "display_data"
        }
      ],
      "source": [
        "z_ttt\n"
      ]
    },
    {
      "cell_type": "markdown",
      "metadata": {
        "id": "_RZaCL3MBwz_"
      },
      "source": [
        "Ambas sintaxis son válidas para crear variables (`=` o `<-`) y los nombres que usamos son muy flexibles en tanto no usen algunos símbolos especiales. Una vez creadas las variables podemos operar con ellas, e incluso guardar los resultados en otras variables:"
      ]
    },
    {
      "cell_type": "code",
      "execution_count": null,
      "metadata": {
        "id": "eXgN-4-WBwz_",
        "outputId": "b09a9752-01db-4168-fe86-4aa18d46a139",
        "vscode": {
          "languageId": "r"
        }
      },
      "outputs": [
        {
          "data": {
            "text/html": [
              "-21"
            ],
            "text/latex": [
              "-21"
            ],
            "text/markdown": [
              "-21"
            ],
            "text/plain": [
              "[1] -21"
            ]
          },
          "metadata": {},
          "output_type": "display_data"
        }
      ],
      "source": [
        "y * z_ttt\n",
        "q <- 5 * y + 3 * z_ttt\n"
      ]
    },
    {
      "cell_type": "markdown",
      "metadata": {
        "id": "0spOprU2Bwz_"
      },
      "source": [
        "Ahora veamos el resultado guardado en `q`:"
      ]
    },
    {
      "cell_type": "code",
      "execution_count": null,
      "metadata": {
        "id": "f7DBU7cYBwz_",
        "outputId": "5ec93c11-99d1-4bb4-d8fe-8a4c487fc63b",
        "vscode": {
          "languageId": "r"
        }
      },
      "outputs": [
        {
          "data": {
            "text/html": [
              "-6"
            ],
            "text/latex": [
              "-6"
            ],
            "text/markdown": [
              "-6"
            ],
            "text/plain": [
              "[1] -6"
            ]
          },
          "metadata": {},
          "output_type": "display_data"
        }
      ],
      "source": [
        "q\n"
      ]
    },
    {
      "cell_type": "markdown",
      "metadata": {
        "id": "x3_TPgUQBwz_"
      },
      "source": [
        "De la misma manera podemos guardar variables tipo texto:"
      ]
    },
    {
      "cell_type": "code",
      "execution_count": null,
      "metadata": {
        "id": "SCCgsLe5Bwz_",
        "vscode": {
          "languageId": "r"
        }
      },
      "outputs": [],
      "source": [
        "texto_generico1 = 'hola'\n",
        "texto_generico2 <- \"esta es una frase larga\"\n"
      ]
    },
    {
      "cell_type": "markdown",
      "metadata": {
        "id": "uMTf_WuaBw0A"
      },
      "source": [
        "Para guardar texto se pueden usar comillas simples o dobles independientemente. Es útil crear variables con texto pues servirán para crear los nombres de las columnas (o incluso filas) de tablas de datos o serán propiamente parte distintas estructuras de datos."
      ]
    },
    {
      "cell_type": "code",
      "execution_count": null,
      "metadata": {
        "id": "bZVmtZ4NBw0A",
        "outputId": "b02942f6-86d3-4ffb-90b0-7e185f01d539",
        "vscode": {
          "languageId": "r"
        }
      },
      "outputs": [
        {
          "data": {
            "text/html": [
              "'esta es una frase larga'"
            ],
            "text/latex": [
              "'esta es una frase larga'"
            ],
            "text/markdown": [
              "'esta es una frase larga'"
            ],
            "text/plain": [
              "[1] \"esta es una frase larga\""
            ]
          },
          "metadata": {},
          "output_type": "display_data"
        },
        {
          "data": {
            "text/html": [
              "'hola'"
            ],
            "text/latex": [
              "'hola'"
            ],
            "text/markdown": [
              "'hola'"
            ],
            "text/plain": [
              "[1] \"hola\""
            ]
          },
          "metadata": {},
          "output_type": "display_data"
        }
      ],
      "source": [
        "texto_generico2\n",
        "texto_generico1\n"
      ]
    },
    {
      "cell_type": "markdown",
      "metadata": {
        "id": "ghd1-TYqBw0A"
      },
      "source": [
        "### <font color='264CC7'> Crear una tabla de datos propia </font>\n",
        "\n",
        "Puedes crear tus propios conjuntos de datos fácilmente utilizando la función data.frame(). Para ello se crean a su vez distintos vectores o listas que servirán de insumo para crear las columnas de nuestra tabla de datos:"
      ]
    },
    {
      "cell_type": "code",
      "execution_count": null,
      "metadata": {
        "id": "4NUCFfbzBw0A",
        "vscode": {
          "languageId": "r"
        }
      },
      "outputs": [],
      "source": [
        "# El código 'c()' sirve para crear un vector que vamos a asignar a una variable 't' como ejemplo:\n",
        "t <- c(1, 2, 3, 4)\n"
      ]
    },
    {
      "cell_type": "markdown",
      "metadata": {
        "id": "LwbHiVSlBw0A"
      },
      "source": [
        "y podemos visualizar dicha variable y sus contenidos así:"
      ]
    },
    {
      "cell_type": "code",
      "execution_count": null,
      "metadata": {
        "id": "88-PE2VOBw0A",
        "outputId": "60727608-a487-42b8-823e-3e120ab55d36",
        "vscode": {
          "languageId": "r"
        }
      },
      "outputs": [
        {
          "data": {
            "text/html": [
              "<style>\n",
              ".list-inline {list-style: none; margin:0; padding: 0}\n",
              ".list-inline>li {display: inline-block}\n",
              ".list-inline>li:not(:last-child)::after {content: \"\\00b7\"; padding: 0 .5ex}\n",
              "</style>\n",
              "<ol class=list-inline><li>1</li><li>2</li><li>3</li><li>4</li></ol>\n"
            ],
            "text/latex": [
              "\\begin{enumerate*}\n",
              "\\item 1\n",
              "\\item 2\n",
              "\\item 3\n",
              "\\item 4\n",
              "\\end{enumerate*}\n"
            ],
            "text/markdown": [
              "1. 1\n",
              "2. 2\n",
              "3. 3\n",
              "4. 4\n",
              "\n",
              "\n"
            ],
            "text/plain": [
              "[1] 1 2 3 4"
            ]
          },
          "metadata": {},
          "output_type": "display_data"
        }
      ],
      "source": [
        "t\n"
      ]
    },
    {
      "cell_type": "markdown",
      "metadata": {
        "id": "wDYkfaRJBw0A"
      },
      "source": [
        "Ahora podemos crear nuestra tabla de datos:"
      ]
    },
    {
      "cell_type": "code",
      "execution_count": 1,
      "metadata": {
        "id": "JXFeBjwmBw0A",
        "vscode": {
          "languageId": "r"
        }
      },
      "outputs": [],
      "source": [
        "# 'data.frame()' se usa para crear una tabla de datos en formato de marco de datos.\n",
        "# Sintaxis: data.frame(columna1 = c(valores), columna2 = c(valores), ...)\n",
        "mi_tabla_de_datos <- data.frame(\n",
        "  Nombre = c(\"Ana\", \"Carlos\", \"María\", \"Luis\"),\n",
        "  Edad = c(23, 35, 29, 41),\n",
        "  Salario = c(45000, 54000, 60000, 58000)\n",
        ")\n"
      ]
    },
    {
      "cell_type": "markdown",
      "metadata": {
        "id": "142zVM7FBw0B"
      },
      "source": [
        "Puedes desplegar una tabla de datos  completa invocando la variable creada:"
      ]
    },
    {
      "cell_type": "code",
      "execution_count": 2,
      "metadata": {
        "id": "13VvQIlCBw0B",
        "outputId": "e72985c2-3558-4ad2-c381-d1998a23da19",
        "vscode": {
          "languageId": "r"
        },
        "colab": {
          "base_uri": "https://localhost:8080/",
          "height": 223
        }
      },
      "outputs": [
        {
          "output_type": "display_data",
          "data": {
            "text/html": [
              "<table class=\"dataframe\">\n",
              "<caption>A data.frame: 4 × 3</caption>\n",
              "<thead>\n",
              "\t<tr><th scope=col>Nombre</th><th scope=col>Edad</th><th scope=col>Salario</th></tr>\n",
              "\t<tr><th scope=col>&lt;chr&gt;</th><th scope=col>&lt;dbl&gt;</th><th scope=col>&lt;dbl&gt;</th></tr>\n",
              "</thead>\n",
              "<tbody>\n",
              "\t<tr><td>Ana   </td><td>23</td><td>45000</td></tr>\n",
              "\t<tr><td>Carlos</td><td>35</td><td>54000</td></tr>\n",
              "\t<tr><td>María </td><td>29</td><td>60000</td></tr>\n",
              "\t<tr><td>Luis  </td><td>41</td><td>58000</td></tr>\n",
              "</tbody>\n",
              "</table>\n"
            ],
            "text/markdown": "\nA data.frame: 4 × 3\n\n| Nombre &lt;chr&gt; | Edad &lt;dbl&gt; | Salario &lt;dbl&gt; |\n|---|---|---|\n| Ana    | 23 | 45000 |\n| Carlos | 35 | 54000 |\n| María  | 29 | 60000 |\n| Luis   | 41 | 58000 |\n\n",
            "text/latex": "A data.frame: 4 × 3\n\\begin{tabular}{lll}\n Nombre & Edad & Salario\\\\\n <chr> & <dbl> & <dbl>\\\\\n\\hline\n\t Ana    & 23 & 45000\\\\\n\t Carlos & 35 & 54000\\\\\n\t María  & 29 & 60000\\\\\n\t Luis   & 41 & 58000\\\\\n\\end{tabular}\n",
            "text/plain": [
              "  Nombre Edad Salario\n",
              "1 Ana    23   45000  \n",
              "2 Carlos 35   54000  \n",
              "3 María  29   60000  \n",
              "4 Luis   41   58000  "
            ]
          },
          "metadata": {}
        }
      ],
      "source": [
        "# Mostramos la tabla de datos creada\n",
        "mi_tabla_de_datos\n"
      ]
    },
    {
      "cell_type": "markdown",
      "metadata": {
        "id": "jv7fv-3gHYys"
      },
      "source": [
        "Si quieres tomar solo una columna de la tabla de datos, puedes hacerlo de la siguiente manera:"
      ]
    },
    {
      "cell_type": "code",
      "execution_count": 3,
      "metadata": {
        "vscode": {
          "languageId": "r"
        },
        "colab": {
          "base_uri": "https://localhost:8080/",
          "height": 34
        },
        "id": "9TKTfeW7HYys",
        "outputId": "5af40720-fcd9-45f7-dcc2-469ed8935291"
      },
      "outputs": [
        {
          "output_type": "display_data",
          "data": {
            "text/html": [
              "<style>\n",
              ".list-inline {list-style: none; margin:0; padding: 0}\n",
              ".list-inline>li {display: inline-block}\n",
              ".list-inline>li:not(:last-child)::after {content: \"\\00b7\"; padding: 0 .5ex}\n",
              "</style>\n",
              "<ol class=list-inline><li>'Ana'</li><li>'Carlos'</li><li>'María'</li><li>'Luis'</li></ol>\n"
            ],
            "text/markdown": "1. 'Ana'\n2. 'Carlos'\n3. 'María'\n4. 'Luis'\n\n\n",
            "text/latex": "\\begin{enumerate*}\n\\item 'Ana'\n\\item 'Carlos'\n\\item 'María'\n\\item 'Luis'\n\\end{enumerate*}\n",
            "text/plain": [
              "[1] \"Ana\"    \"Carlos\" \"María\"  \"Luis\"  "
            ]
          },
          "metadata": {}
        }
      ],
      "source": [
        "# $ es un operador que se usa para acceder a una columna específica\n",
        "mi_tabla_de_datos$Nombre"
      ]
    },
    {
      "cell_type": "markdown",
      "metadata": {
        "id": "EeOezISBBw0B"
      },
      "source": [
        "### <font color='264CC7'> Cargar una tabla de datos desde el disco </font>\n",
        "\n",
        "Puedes cargar datos de un archivo de texto o CSV utilizando read.table() o read.csv()."
      ]
    },
    {
      "cell_type": "code",
      "execution_count": null,
      "metadata": {
        "id": "3qQ2VIe1Bw0B",
        "vscode": {
          "languageId": "r"
        }
      },
      "outputs": [],
      "source": [
        "# La función 'read.table()' lee archivos de texto.\n",
        "# Sintaxis: read.table(\"ruta_del_archivo\", header = TRUE/FALSE) donde 'header' indica si el archivo tiene encabezados.\n",
        "tabla_de_datos <- read.table(\"mi_archivo.txt\", header = TRUE)\n",
        "\n",
        "# Alternativamente, para archivos CSV, puedes usar 'read.csv()'.\n",
        "# Sintaxis: read.csv(\"ruta_del_archivo\")\n",
        "tabla_de_datos_csv <- read.csv(\"mi_archivo.csv\")\n"
      ]
    },
    {
      "cell_type": "markdown",
      "metadata": {
        "id": "waOat32kBw0B"
      },
      "source": [
        "---\n",
        "## <font color='264CC7'> Conjuntos de datos incorporadas</font>\n",
        "---\n",
        "\n",
        "R viene con varios conjuntos de datos preinstalados. Estos pueden ser muy útiles para realizar pruebas o aprender técnicas de análisis.\n",
        "\n",
        "### <font color='264CC7'> Ejemplo: El conjunto de datos 'cars' </font>\n",
        "\n",
        "El conjunto de datos `cars` incluye información sobre la velocidad de los automóviles y su distancia de frenado."
      ]
    },
    {
      "cell_type": "code",
      "execution_count": null,
      "metadata": {
        "id": "B1wQVl3aBw0B",
        "outputId": "71475951-b38c-4348-be49-b89a69148613",
        "vscode": {
          "languageId": "r"
        }
      },
      "outputs": [
        {
          "data": {
            "text/html": [
              "<table class=\"dataframe\">\n",
              "<caption>A data.frame: 6 × 2</caption>\n",
              "<thead>\n",
              "\t<tr><th></th><th scope=col>speed</th><th scope=col>dist</th></tr>\n",
              "\t<tr><th></th><th scope=col>&lt;dbl&gt;</th><th scope=col>&lt;dbl&gt;</th></tr>\n",
              "</thead>\n",
              "<tbody>\n",
              "\t<tr><th scope=row>1</th><td>4</td><td> 2</td></tr>\n",
              "\t<tr><th scope=row>2</th><td>4</td><td>10</td></tr>\n",
              "\t<tr><th scope=row>3</th><td>7</td><td> 4</td></tr>\n",
              "\t<tr><th scope=row>4</th><td>7</td><td>22</td></tr>\n",
              "\t<tr><th scope=row>5</th><td>8</td><td>16</td></tr>\n",
              "\t<tr><th scope=row>6</th><td>9</td><td>10</td></tr>\n",
              "</tbody>\n",
              "</table>\n"
            ],
            "text/latex": [
              "A data.frame: 6 × 2\n",
              "\\begin{tabular}{r|ll}\n",
              "  & speed & dist\\\\\n",
              "  & <dbl> & <dbl>\\\\\n",
              "\\hline\n",
              "\t1 & 4 &  2\\\\\n",
              "\t2 & 4 & 10\\\\\n",
              "\t3 & 7 &  4\\\\\n",
              "\t4 & 7 & 22\\\\\n",
              "\t5 & 8 & 16\\\\\n",
              "\t6 & 9 & 10\\\\\n",
              "\\end{tabular}\n"
            ],
            "text/markdown": [
              "\n",
              "A data.frame: 6 × 2\n",
              "\n",
              "| <!--/--> | speed &lt;dbl&gt; | dist &lt;dbl&gt; |\n",
              "|---|---|---|\n",
              "| 1 | 4 |  2 |\n",
              "| 2 | 4 | 10 |\n",
              "| 3 | 7 |  4 |\n",
              "| 4 | 7 | 22 |\n",
              "| 5 | 8 | 16 |\n",
              "| 6 | 9 | 10 |\n",
              "\n"
            ],
            "text/plain": [
              "  speed dist\n",
              "1 4      2  \n",
              "2 4     10  \n",
              "3 7      4  \n",
              "4 7     22  \n",
              "5 8     16  \n",
              "6 9     10  "
            ]
          },
          "metadata": {},
          "output_type": "display_data"
        }
      ],
      "source": [
        "# La función 'head()' muestra las primeras filas de un conjunto de datos.\n",
        "# Sintaxis: head(dataset, n) donde 'dataset' es el nombre del conjunto de datos y 'n' es el número de filas a mostrar (por defecto n=6).\n",
        "head(cars)\n"
      ]
    },
    {
      "cell_type": "markdown",
      "metadata": {
        "id": "M30QWWCqBw0B"
      },
      "source": [
        "### <font color='264CC7'> Ejemplo: El conjunto de datos 'iris' </font>\n",
        "\n",
        "El conjunto de datos iris es famoso en estadística. Contiene datos sobre tres especies de flores y cuatro de sus características: longitud y ancho del sépalo y pétalo."
      ]
    },
    {
      "cell_type": "code",
      "execution_count": null,
      "metadata": {
        "id": "S87kbaQ5Bw0B",
        "outputId": "e6ceba88-99f5-4761-ee7a-bd6349a3e37b",
        "vscode": {
          "languageId": "r"
        }
      },
      "outputs": [
        {
          "data": {
            "text/html": [
              "<table class=\"dataframe\">\n",
              "<caption>A data.frame: 6 × 5</caption>\n",
              "<thead>\n",
              "\t<tr><th></th><th scope=col>Sepal.Length</th><th scope=col>Sepal.Width</th><th scope=col>Petal.Length</th><th scope=col>Petal.Width</th><th scope=col>Species</th></tr>\n",
              "\t<tr><th></th><th scope=col>&lt;dbl&gt;</th><th scope=col>&lt;dbl&gt;</th><th scope=col>&lt;dbl&gt;</th><th scope=col>&lt;dbl&gt;</th><th scope=col>&lt;fct&gt;</th></tr>\n",
              "</thead>\n",
              "<tbody>\n",
              "\t<tr><th scope=row>1</th><td>5.1</td><td>3.5</td><td>1.4</td><td>0.2</td><td>setosa</td></tr>\n",
              "\t<tr><th scope=row>2</th><td>4.9</td><td>3.0</td><td>1.4</td><td>0.2</td><td>setosa</td></tr>\n",
              "\t<tr><th scope=row>3</th><td>4.7</td><td>3.2</td><td>1.3</td><td>0.2</td><td>setosa</td></tr>\n",
              "\t<tr><th scope=row>4</th><td>4.6</td><td>3.1</td><td>1.5</td><td>0.2</td><td>setosa</td></tr>\n",
              "\t<tr><th scope=row>5</th><td>5.0</td><td>3.6</td><td>1.4</td><td>0.2</td><td>setosa</td></tr>\n",
              "\t<tr><th scope=row>6</th><td>5.4</td><td>3.9</td><td>1.7</td><td>0.4</td><td>setosa</td></tr>\n",
              "</tbody>\n",
              "</table>\n"
            ],
            "text/latex": [
              "A data.frame: 6 × 5\n",
              "\\begin{tabular}{r|lllll}\n",
              "  & Sepal.Length & Sepal.Width & Petal.Length & Petal.Width & Species\\\\\n",
              "  & <dbl> & <dbl> & <dbl> & <dbl> & <fct>\\\\\n",
              "\\hline\n",
              "\t1 & 5.1 & 3.5 & 1.4 & 0.2 & setosa\\\\\n",
              "\t2 & 4.9 & 3.0 & 1.4 & 0.2 & setosa\\\\\n",
              "\t3 & 4.7 & 3.2 & 1.3 & 0.2 & setosa\\\\\n",
              "\t4 & 4.6 & 3.1 & 1.5 & 0.2 & setosa\\\\\n",
              "\t5 & 5.0 & 3.6 & 1.4 & 0.2 & setosa\\\\\n",
              "\t6 & 5.4 & 3.9 & 1.7 & 0.4 & setosa\\\\\n",
              "\\end{tabular}\n"
            ],
            "text/markdown": [
              "\n",
              "A data.frame: 6 × 5\n",
              "\n",
              "| <!--/--> | Sepal.Length &lt;dbl&gt; | Sepal.Width &lt;dbl&gt; | Petal.Length &lt;dbl&gt; | Petal.Width &lt;dbl&gt; | Species &lt;fct&gt; |\n",
              "|---|---|---|---|---|---|\n",
              "| 1 | 5.1 | 3.5 | 1.4 | 0.2 | setosa |\n",
              "| 2 | 4.9 | 3.0 | 1.4 | 0.2 | setosa |\n",
              "| 3 | 4.7 | 3.2 | 1.3 | 0.2 | setosa |\n",
              "| 4 | 4.6 | 3.1 | 1.5 | 0.2 | setosa |\n",
              "| 5 | 5.0 | 3.6 | 1.4 | 0.2 | setosa |\n",
              "| 6 | 5.4 | 3.9 | 1.7 | 0.4 | setosa |\n",
              "\n"
            ],
            "text/plain": [
              "  Sepal.Length Sepal.Width Petal.Length Petal.Width Species\n",
              "1 5.1          3.5         1.4          0.2         setosa \n",
              "2 4.9          3.0         1.4          0.2         setosa \n",
              "3 4.7          3.2         1.3          0.2         setosa \n",
              "4 4.6          3.1         1.5          0.2         setosa \n",
              "5 5.0          3.6         1.4          0.2         setosa \n",
              "6 5.4          3.9         1.7          0.4         setosa "
            ]
          },
          "metadata": {},
          "output_type": "display_data"
        }
      ],
      "source": [
        "# Mostramos las primeras filas de 'iris'.\n",
        "head(iris)\n"
      ]
    },
    {
      "cell_type": "markdown",
      "metadata": {
        "id": "KxM_24-kBw0B"
      },
      "source": [
        "---\n",
        "## <font color='264CC7'> Gráficos en R</font>\n",
        "---\n",
        "\n",
        "R permite la creación de gráficos básicos para el análisis exploratorio de datos.\n",
        "\n",
        "### <font color='264CC7'> Gráfico de dispersión </font>\n",
        "\n",
        "El gráfico de dispersión muestra la relación entre dos variables. En este caso, analizamos la relación entre la velocidad del automóvil y la distancia de frenado del conjunto cars."
      ]
    },
    {
      "cell_type": "code",
      "execution_count": null,
      "metadata": {
        "id": "dKqjzaXDBw0C",
        "outputId": "e3101b03-001b-407a-8794-a139019d99cb",
        "vscode": {
          "languageId": "r"
        }
      },
      "outputs": [
        {
          "data": {
            "image/png": "[encoded data removed]",
            "text/plain": [
              "Plot with title \"Gráfico de Dispersión: Velocidad vs Distancia\""
            ]
          },
          "metadata": {
            "image/png": {
              "height": 420,
              "width": 420
            }
          },
          "output_type": "display_data"
        }
      ],
      "source": [
        "# 'plot()' se utiliza para generar gráficos de dispersión.\n",
        "# Sintaxis: plot(x, y, main=\"Título\", xlab=\"Etiqueta X\", ylab=\"Etiqueta Y\", pch=tipo_de_punto, col=\"color\")\n",
        "plot(cars$speed, cars$dist,\n",
        "     main = \"Gráfico de Dispersión: Velocidad vs Distancia\",\n",
        "     xlab = \"Velocidad (mph)\",\n",
        "     ylab = \"Distancia de Frenado (ft)\",\n",
        "     pch = 19, # tipo de punto\n",
        "     col = \"blue\"\n",
        ")\n"
      ]
    },
    {
      "cell_type": "markdown",
      "metadata": {
        "id": "XsgwJBdVBw0C"
      },
      "source": [
        "### <font color='264CC7'> Gráfico de una función matemática </font>\n",
        "\n",
        "Puedes graficar funciones matemáticas directamente en R, como por ejemplo la función seno."
      ]
    },
    {
      "cell_type": "code",
      "execution_count": null,
      "metadata": {
        "id": "60qB0MPsBw0C",
        "outputId": "72152387-6285-425a-e557-61ab9ac43d98",
        "vscode": {
          "languageId": "r"
        }
      },
      "outputs": [
        {
          "data": {
            "image/png": "[encoded data removed]",
            "text/plain": [
              "Plot with title \"Gráfico de la Función Seno\""
            ]
          },
          "metadata": {
            "image/png": {
              "height": 420,
              "width": 420
            }
          },
          "output_type": "display_data"
        }
      ],
      "source": [
        "# 'curve()' se utiliza para graficar funciones matemáticas.\n",
        "# Sintaxis: curve(expr, from=min, to=max, ...) donde 'expr' es la función a graficar.\n",
        "curve(sin,\n",
        "      from = -2 * pi, to = 2 * pi,\n",
        "      main = \"Gráfico de la Función Seno\",\n",
        "      xlab = \"x\", ylab = \"sin(x)\",\n",
        "      col = \"red\", lwd = 2\n",
        ")\n"
      ]
    },
    {
      "cell_type": "markdown",
      "metadata": {
        "id": "gCmio4eLBw0C"
      },
      "source": [
        "### <font color='264CC7'> Gráfico de frecuencias: Histograma </font>\n",
        "El histograma muestra la distribución de frecuencias de una variable. Aquí se representa la distancia de frenado de los automóviles."
      ]
    },
    {
      "cell_type": "code",
      "execution_count": null,
      "metadata": {
        "id": "eekEnw3VBw0C",
        "outputId": "1592f1ca-dae5-4503-853e-bedb5f15ad08",
        "vscode": {
          "languageId": "r"
        }
      },
      "outputs": [
        {
          "data": {
            "image/png": "[encoded data removed]",
            "text/plain": [
              "Plot with title \"Histograma de Distancias de Frenado\""
            ]
          },
          "metadata": {
            "image/png": {
              "height": 420,
              "width": 420
            }
          },
          "output_type": "display_data"
        }
      ],
      "source": [
        "# 'hist()' crea un histograma.\n",
        "# Sintaxis: hist(vector_de_datos, main=\"Título\", xlab=\"Etiqueta X\", col=\"color\")\n",
        "hist(cars$dist,\n",
        "     main = \"Histograma de Distancias de Frenado\",\n",
        "     xlab = \"Distancia de Frenado (ft)\",\n",
        "     col = \"lightgreen\", border = \"black\"\n",
        ")\n"
      ]
    },
    {
      "cell_type": "markdown",
      "metadata": {
        "id": "h45ZgOzpBw0C"
      },
      "source": [
        "### <font color='264CC7'> Gráfico de pastel </font>\n",
        "\n",
        "Los gráficos de pastel son útiles para visualizar proporciones y a continuación, se muestra la proporción de especies en el conjunto de datos iris."
      ]
    },
    {
      "cell_type": "code",
      "execution_count": null,
      "metadata": {
        "id": "TBj6wbRBBw0C",
        "outputId": "c3c396f8-fcaa-4f17-9895-5ac2b346a460",
        "vscode": {
          "languageId": "r"
        }
      },
      "outputs": [
        {
          "data": {
            "image/png": "[encoded data removed]",
            "text/plain": [
              "Plot with title \"Proporción de Especies en Iris\""
            ]
          },
          "metadata": {
            "image/png": {
              "height": 420,
              "width": 420
            }
          },
          "output_type": "display_data"
        }
      ],
      "source": [
        "# 'pie()' crea gráficos de pastel.\n",
        "# Sintaxis: pie(vector_de_datos, main=\"Título\", col=c(\"color1\", \"color2\", ...))\n",
        "species_count <- table(iris$Species) # 'table()' cuenta la frecuencia de cada valor\n",
        "pie(species_count,\n",
        "    main = \"Proporción de Especies en Iris\",\n",
        "    col = c(\"red\", \"green\", \"blue\")\n",
        ")\n"
      ]
    },
    {
      "cell_type": "markdown",
      "metadata": {
        "id": "Ou-TZOfUBw0F"
      },
      "source": [
        "### <font color='264CC7'> Explicación detallada de las funciones usadas: </font>\n",
        "\n",
        "1. **`head()`**: Muestra las primeras filas de un conjunto de datos. Es útil para echar un vistazo rápido al contenido.\n",
        "   - Sintaxis: `head(dataset, n)` donde `n` es el número de filas a mostrar (por defecto, 6).\n",
        "   \n",
        "2. **`data.frame()`**: Crea un conjunto de datos en formato de tabla.\n",
        "   - Sintaxis: `data.frame(columna1 = c(valores), columna2 = c(valores))`.\n",
        "\n",
        "3. **`read.table()`** y **`read.csv()`**: Estas funciones se usan para cargar datos externos (archivos de texto y CSV, respectivamente).\n",
        "   - `read.table(\"archivo.txt\", header = TRUE/FALSE)` donde `header` indica si la primera fila del archivo contiene nombres de columnas.\n",
        "   - `read.csv(\"archivo.csv\")` funciona de manera similar, pero está optimizada para archivos CSV.\n",
        "\n",
        "4. **`plot()`**: Genera gráficos de dispersión.\n",
        "   - Sintaxis: `plot(x, y, main, xlab, ylab, pch, col)`.\n",
        "\n",
        "5. **`curve()`**: Grafica una función matemática dentro de un intervalo.\n",
        "   - Sintaxis: `curve(función, from, to)` donde `from` y `to` son los límites del gráfico.\n",
        "\n",
        "6. **`hist()`**: Crea un histograma para mostrar la distribución de frecuencias de un conjunto de datos.\n",
        "   - Sintaxis: `hist(datos, main, xlab, col)`.\n",
        "\n",
        "7. **`table()`**: Cuenta las frecuencias de los valores de una variable categórica.\n",
        "   - Sintaxis: `table(variable)`.\n",
        "\n",
        "8. **`pie()`**: Crea gráficos de pastel.\n",
        "   - Sintaxis: `pie(tabla_de_frecuencias, main, col)`."
      ]
    }
  ],
  "metadata": {
    "colab": {
      "provenance": [],
      "include_colab_link": true
    },
    "kernelspec": {
      "display_name": "R",
      "language": "R",
      "name": "ir"
    },
    "language_info": {
      "codemirror_mode": "r",
      "file_extension": ".r",
      "mimetype": "text/x-r-source",
      "name": "R",
      "pygments_lexer": "r",
      "version": "4.1.2"
    }
  },
  "nbformat": 4,
  "nbformat_minor": 0
}